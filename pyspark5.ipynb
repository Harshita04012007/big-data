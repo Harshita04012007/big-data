{
  "nbformat": 4,
  "nbformat_minor": 0,
  "metadata": {
    "colab": {
      "provenance": []
    },
    "kernelspec": {
      "name": "python3",
      "display_name": "Python 3"
    },
    "language_info": {
      "name": "python"
    }
  },
  "cells": [
    {
      "cell_type": "code",
      "execution_count": null,
      "metadata": {
        "colab": {
          "base_uri": "https://localhost:8080/"
        },
        "id": "kuFKcg5mQF4g",
        "outputId": "7b6c68e1-276e-4c43-c18a-9885cfbd7d2c"
      },
      "outputs": [
        {
          "output_type": "stream",
          "name": "stdout",
          "text": [
            "Requirement already satisfied: pyspark in /usr/local/lib/python3.11/dist-packages (3.5.1)\n",
            "Requirement already satisfied: py4j==0.10.9.7 in /usr/local/lib/python3.11/dist-packages (from pyspark) (0.10.9.7)\n"
          ]
        }
      ],
      "source": [
        "!pip install pyspark"
      ]
    },
    {
      "cell_type": "code",
      "source": [
        "from pyspark.sql import SparkSession\n",
        "spark = SparkSession.builder.appName('Spark_5').getOrCreate()"
      ],
      "metadata": {
        "id": "n1LW5f8VUatt"
      },
      "execution_count": null,
      "outputs": []
    },
    {
      "cell_type": "code",
      "source": [
        "data1=[\n",
        "    (\"mark\",1000),\n",
        "    (\"bob\",1500),\n",
        "    (\"charlie\",2000),\n",
        "    (\"david\",2200),\n",
        "    (\"eve\",1200),\n",
        "]"
      ],
      "metadata": {
        "id": "UcSD_aEiUmeh"
      },
      "execution_count": null,
      "outputs": []
    },
    {
      "cell_type": "code",
      "source": [
        "employeeDF=spark.createDataFrame(data=data1,schema=[\"name\",\"salary\"])\n",
        "employeeDF.show()"
      ],
      "metadata": {
        "colab": {
          "base_uri": "https://localhost:8080/"
        },
        "id": "XFE8mf4wVGaE",
        "outputId": "c03fea60-5c47-4b5f-a60e-38ef8ad378f3"
      },
      "execution_count": null,
      "outputs": [
        {
          "output_type": "stream",
          "name": "stdout",
          "text": [
            "+-------+------+\n",
            "|   name|salary|\n",
            "+-------+------+\n",
            "|   mark|  1000|\n",
            "|    bob|  1500|\n",
            "|charlie|  2000|\n",
            "|  david|  2200|\n",
            "|    eve|  1200|\n",
            "+-------+------+\n",
            "\n"
          ]
        }
      ]
    },
    {
      "cell_type": "code",
      "source": [
        "#create 2nd dataframe\n",
        "data2=[\n",
        "    (\"Alice\",\"sales\"),\n",
        "     (\"bob\",1500),\n",
        "    (\"charlie\",2000),\n",
        "    (\"david\",2200),\n",
        "    (\"eve\",1200),\n",
        "]\n",
        "column2=[\"employee_name\",\"department\"]\n",
        "departmentDF=spark.createDataFrame(data2,column2)\n",
        "departmentDF.show()"
      ],
      "metadata": {
        "colab": {
          "base_uri": "https://localhost:8080/"
        },
        "id": "EtonunJtVRZC",
        "outputId": "e3a77bc8-da83-410b-fe4c-d74374bb2a86"
      },
      "execution_count": null,
      "outputs": [
        {
          "output_type": "stream",
          "name": "stdout",
          "text": [
            "+-------------+----------+\n",
            "|employee_name|department|\n",
            "+-------------+----------+\n",
            "|        Alice|     sales|\n",
            "|          bob|      1500|\n",
            "|      charlie|      2000|\n",
            "|        david|      2200|\n",
            "|          eve|      1200|\n",
            "+-------------+----------+\n",
            "\n"
          ]
        }
      ]
    },
    {
      "cell_type": "code",
      "source": [
        "#inner join\n",
        "inner_join_df=employeeDF.join(departmentDF,employeeDF.name==departmentDF.employee_name,\"inner\").show()\n"
      ],
      "metadata": {
        "colab": {
          "base_uri": "https://localhost:8080/"
        },
        "id": "ndT7JI-YVvfw",
        "outputId": "3d602488-6227-46d7-b4e5-8d04e60bf600"
      },
      "execution_count": null,
      "outputs": [
        {
          "output_type": "stream",
          "name": "stdout",
          "text": [
            "+-------+------+-------------+----------+\n",
            "|   name|salary|employee_name|department|\n",
            "+-------+------+-------------+----------+\n",
            "|    bob|  1500|          bob|      1500|\n",
            "|charlie|  2000|      charlie|      2000|\n",
            "|  david|  2200|        david|      2200|\n",
            "|    eve|  1200|          eve|      1200|\n",
            "+-------+------+-------------+----------+\n",
            "\n"
          ]
        }
      ]
    },
    {
      "cell_type": "code",
      "source": [
        "#outer join\n",
        "outer_join_df=employeeDF.join(departmentDF,employeeDF.name==departmentDF.employee_name,\"outer\").show()"
      ],
      "metadata": {
        "colab": {
          "base_uri": "https://localhost:8080/"
        },
        "id": "kaxZSXjCWBjD",
        "outputId": "33c68a23-b96f-4811-a137-a2ff3d4142a5"
      },
      "execution_count": null,
      "outputs": [
        {
          "output_type": "stream",
          "name": "stdout",
          "text": [
            "+-------+------+-------------+----------+\n",
            "|   name|salary|employee_name|department|\n",
            "+-------+------+-------------+----------+\n",
            "|   NULL|  NULL|        Alice|     sales|\n",
            "|    bob|  1500|          bob|      1500|\n",
            "|charlie|  2000|      charlie|      2000|\n",
            "|  david|  2200|        david|      2200|\n",
            "|    eve|  1200|          eve|      1200|\n",
            "|   mark|  1000|         NULL|      NULL|\n",
            "+-------+------+-------------+----------+\n",
            "\n"
          ]
        }
      ]
    },
    {
      "cell_type": "code",
      "source": [
        "#left join\n",
        "left_join_df=employeeDF.join(departmentDF,employeeDF.name==departmentDF.employee_name,\"left\").show()"
      ],
      "metadata": {
        "colab": {
          "base_uri": "https://localhost:8080/"
        },
        "id": "wsNAiSQIWFww",
        "outputId": "4045148f-9784-4ae5-9446-5c190ebeede3"
      },
      "execution_count": null,
      "outputs": [
        {
          "output_type": "stream",
          "name": "stdout",
          "text": [
            "+-------+------+-------------+----------+\n",
            "|   name|salary|employee_name|department|\n",
            "+-------+------+-------------+----------+\n",
            "|   mark|  1000|         NULL|      NULL|\n",
            "|    bob|  1500|          bob|      1500|\n",
            "|  david|  2200|        david|      2200|\n",
            "|charlie|  2000|      charlie|      2000|\n",
            "|    eve|  1200|          eve|      1200|\n",
            "+-------+------+-------------+----------+\n",
            "\n"
          ]
        }
      ]
    },
    {
      "cell_type": "code",
      "source": [
        "#right join\n",
        "right_join_df=employeeDF.join(departmentDF,employeeDF.name==departmentDF.employee_name,\"right\").show()"
      ],
      "metadata": {
        "colab": {
          "base_uri": "https://localhost:8080/"
        },
        "id": "fwXCbXlGWMw0",
        "outputId": "3399dcbd-5290-4551-8513-5ec87cf774c4"
      },
      "execution_count": null,
      "outputs": [
        {
          "output_type": "stream",
          "name": "stdout",
          "text": [
            "+-------+------+-------------+----------+\n",
            "|   name|salary|employee_name|department|\n",
            "+-------+------+-------------+----------+\n",
            "|   NULL|  NULL|        Alice|     sales|\n",
            "|    bob|  1500|          bob|      1500|\n",
            "|  david|  2200|        david|      2200|\n",
            "|charlie|  2000|      charlie|      2000|\n",
            "|    eve|  1200|          eve|      1200|\n",
            "+-------+------+-------------+----------+\n",
            "\n"
          ]
        }
      ]
    },
    {
      "cell_type": "code",
      "source": [
        "#left_anti_join\n",
        "left_anti_join_df=employeeDF.join(departmentDF,employeeDF.name==departmentDF.employee_name,\"left_anti\").show()"
      ],
      "metadata": {
        "colab": {
          "base_uri": "https://localhost:8080/"
        },
        "id": "V-Zv7FKTWo53",
        "outputId": "a56f991c-dec5-4571-f147-4b93ef38f854"
      },
      "execution_count": null,
      "outputs": [
        {
          "output_type": "stream",
          "name": "stdout",
          "text": [
            "+----+------+\n",
            "|name|salary|\n",
            "+----+------+\n",
            "|mark|  1000|\n",
            "+----+------+\n",
            "\n"
          ]
        }
      ]
    },
    {
      "cell_type": "code",
      "source": [],
      "metadata": {
        "id": "tQs-Bx8TXKGN"
      },
      "execution_count": null,
      "outputs": []
    }
  ]
}